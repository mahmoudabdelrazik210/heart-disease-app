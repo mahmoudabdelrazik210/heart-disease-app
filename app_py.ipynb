{
  "nbformat": 4,
  "nbformat_minor": 0,
  "metadata": {
    "colab": {
      "provenance": []
    },
    "kernelspec": {
      "name": "python3",
      "display_name": "Python 3"
    },
    "language_info": {
      "name": "python"
    }
  },
  "cells": [
    {
      "cell_type": "code",
      "source": [
        "!pip install streamlit pyngrok --quiet\n"
      ],
      "metadata": {
        "id": "5Px_vROy76vP"
      },
      "execution_count": 7,
      "outputs": []
    },
    {
      "cell_type": "code",
      "execution_count": 8,
      "metadata": {
        "colab": {
          "base_uri": "https://localhost:8080/"
        },
        "id": "AjpC1OB01acx",
        "outputId": "2a794c5c-0ae6-4197-d079-dbf4ea17758b"
      },
      "outputs": [
        {
          "output_type": "stream",
          "name": "stdout",
          "text": [
            "Writing app.py\n"
          ]
        }
      ],
      "source": [
        "%%writefile app.py\n",
        "import streamlit as st\n",
        "import joblib\n",
        "import numpy as np\n",
        "import plotly.graph_objects as go\n",
        "\n",
        "# ---------------- Page Config ----------------\n",
        "st.set_page_config(page_title=\"Heart Disease Prediction App\", layout=\"centered\")\n",
        "\n",
        "# ---------------- Title ----------------\n",
        "st.markdown(\"## 🫀 Heart Disease Prediction App\")\n",
        "st.markdown(\"Enter the patient's details below:\")\n",
        "\n",
        "# ---------------- Load Model ----------------\n",
        "@st.cache_resource\n",
        "def load_model():\n",
        "    model = joblib.load('best_xgboost_model.pkl')\n",
        "    return model\n",
        "\n",
        "model = load_model()\n",
        "\n",
        "# ---------------- Input Section ----------------\n",
        "st.markdown(\"### 🧍‍♂️ Patient Information\")\n",
        "col1, col2 = st.columns(2)\n",
        "\n",
        "with col1:\n",
        "    age = st.number_input(\"🎂 Age | العمر (Normal: 20–60 years)\", 1, 120, 50)\n",
        "\n",
        "    sex = st.selectbox(\"🚻 Gender | الجنس (0 = Female | 1 = Male)\", [0, 1],\n",
        "                       format_func=lambda x: \"أنثى (Female)\" if x == 0 else \"ذكر (Male)\")\n",
        "\n",
        "    cp = st.selectbox(\"💔 Chest Pain Type | نوع ألم الصدر (0=Normal → 3=Worst)\", [0, 1, 2, 3],\n",
        "                      format_func=lambda x: {\n",
        "                          0: \"0 - Typical Angina | ذبحة صدرية طبيعية\",\n",
        "                          1: \"1 - Atypical Angina | ذبحة غير نموذجية\",\n",
        "                          2: \"2 - Non-anginal Pain | ألم غير قلبي\",\n",
        "                          3: \"3 - Asymptomatic | بدون أعراض\"\n",
        "                      }[x])\n",
        "\n",
        "    trestbps = st.number_input(\"🩺 Resting BP | ضغط الدم أثناء الراحة (Normal: 90–120 mmHg)\", 80, 200, 120)\n",
        "\n",
        "    chol = st.number_input(\"💉 Serum Cholesterol | الكوليسترول (Normal: < 200 mg/dl)\", 100, 600, 200)\n",
        "\n",
        "    fbs = st.selectbox(\"🩸 Fasting Blood Sugar | السكر الصائم (0 <120 mg/dl | 1 >120 mg/dl)\", [0, 1],\n",
        "                       format_func=lambda x: \"0 - طبيعي (<120)\" if x == 0 else \"1 - مرتفع (>120)\")\n",
        "\n",
        "with col2:\n",
        "    restecg = st.selectbox(\"📈 Resting ECG | تخطيط القلب أثناء الراحة (0=Normal)\", [0, 1, 2],\n",
        "                           format_func=lambda x: {\n",
        "                               0: \"0 - طبيعي (Normal)\",\n",
        "                               1: \"1 - ST-T abnormality (خلل بسيط)\",\n",
        "                               2: \"2 - LVH (تضخم البطين الأيسر)\"\n",
        "                           }[x])\n",
        "\n",
        "    thalch = st.number_input(\"❤️ Max Heart Rate | أقصى معدل نبض (Normal: 100–200 bpm)\", 60, 220, 150)\n",
        "\n",
        "    exang = st.selectbox(\"🏃 Exercise Angina | ألم مع التمرين (0 = No | 1 = Yes)\", [0, 1],\n",
        "                         format_func=lambda x: \"0 - لا يوجد (No)\" if x == 0 else \"1 - يوجد (Yes)\")\n",
        "\n",
        "    oldpeak = st.number_input(\"📉 Oldpeak (ST Depression) | انخفاض ST (Normal: 0.0–2.0)\", 0.0, 6.0, 1.0)\n",
        "\n",
        "    slope = st.selectbox(\"📊 Slope of ST Segment | ميل منحنى ST (0 = Upsloping أفضل)\", [0, 1, 2],\n",
        "                         format_func=lambda x: {\n",
        "                             0: \"0 - صاعد (Upsloping)\",\n",
        "                             1: \"1 - مستوٍ (Flat)\",\n",
        "                             2: \"2 - نازل (Downsloping)\"\n",
        "                         }[x])\n",
        "\n",
        "    ca = st.selectbox(\"🫀 Major Vessels (CA) | عدد الشرايين المسدودة (0 = سليم)\", [0, 1, 2, 3],\n",
        "                      format_func=lambda x: f\"{x} - {'سليم' if x == 0 else f'{x} شريان متأثر'}\")\n",
        "\n",
        "    thal = st.selectbox(\"🧬 Thalassemia | الثلاسيميا (0 = Normal)\", [0, 1, 2],\n",
        "                        format_func=lambda x: {\n",
        "                            0: \"0 - طبيعي (Normal)\",\n",
        "                            1: \"1 - خلل ثابت (Fixed Defect)\",\n",
        "                            2: \"2 - خلل متغير (Reversible Defect)\"\n",
        "                        }[x])\n",
        "\n",
        "# ---------------- Prediction ----------------\n",
        "if st.button(\"🔍 Predict\"):\n",
        "    input_data = np.array([[age, sex, cp, trestbps, chol,\n",
        "                            fbs, restecg, thalch, exang, oldpeak, slope, ca, thal]])\n",
        "\n",
        "    prediction = model.predict(input_data)[0]\n",
        "    prob = model.predict_proba(input_data)[0][1] * 100\n",
        "\n",
        "    st.markdown(\"### 📊 Prediction Result | النتيجة\")\n",
        "\n",
        "    if prob < 40:\n",
        "        st.success(f\"🟩 Low Risk ({prob:.2f}%) — خطر منخفض | المريض بصحة جيدة غالبًا\")\n",
        "        color = \"#10B981\"\n",
        "    elif 40 <= prob <= 70:\n",
        "        st.warning(f\"🟧 Medium Risk ({prob:.2f}%) — خطر متوسط | يُفضل عمل فحوصات إضافية\")\n",
        "        color = \"#FBBF24\"\n",
        "    else:\n",
        "        st.error(f\"🟥 High Risk ({prob:.2f}%) — خطر مرتفع | يُنصح بمراجعة طبيب القلب فورًا\")\n",
        "        color = \"#EF4444\"\n",
        "\n",
        "    fig = go.Figure(go.Indicator(\n",
        "        mode=\"gauge+number\",\n",
        "        value=prob,\n",
        "        title={'text': \"Heart Disease Risk (%) | نسبة خطر أمراض القلب\", 'font': {'size': 18}},\n",
        "        gauge={\n",
        "            'axis': {'range': [0, 100]},\n",
        "            'bar': {'color': color},\n",
        "            'steps': [\n",
        "                {'range': [0, 40], 'color': \"#6EE7B7\"},\n",
        "                {'range': [40, 70], 'color': \"#FCD34D\"},\n",
        "                {'range': [70, 100], 'color': \"#F87171\"}\n",
        "            ],\n",
        "            'threshold': {'line': {'color': \"black\", 'width': 4}, 'value': prob}\n",
        "        }\n",
        "    ))\n",
        "    st.plotly_chart(fig, use_container_width=True)\n",
        "\n",
        "# ---------------- Footer ----------------\n",
        "st.markdown(\"---\")\n",
        "st.caption(\"👨‍💻 Developed by Kerolos Medhat | Heart Disease Prediction App\")"
      ]
    },
    {
      "cell_type": "code",
      "source": [
        "!ngrok config add-authtoken 32v1TkhlnTKUsS2uQYdsCioo2VU_35D4SEGWjAqyoYcnjKmVt\n"
      ],
      "metadata": {
        "id": "1fEsaSaI-Juf",
        "outputId": "660dee7c-9e63-47d3-d00b-082ad290fbc0",
        "colab": {
          "base_uri": "https://localhost:8080/"
        }
      },
      "execution_count": 11,
      "outputs": [
        {
          "output_type": "stream",
          "name": "stdout",
          "text": [
            "Authtoken saved to configuration file: /root/.config/ngrok/ngrok.yml\n"
          ]
        }
      ]
    },
    {
      "cell_type": "code",
      "source": [
        "from pyngrok import ngrok\n",
        "\n",
        "!streamlit run app.py &>/dev/null&\n",
        "\n",
        "public_url = ngrok.connect(8501)\n",
        "print(\"✅ App is running at:\", public_url)\n"
      ],
      "metadata": {
        "id": "upZexk1I-PVG",
        "outputId": "94735311-6f36-4142-bce2-f864a6153fe8",
        "colab": {
          "base_uri": "https://localhost:8080/"
        }
      },
      "execution_count": 12,
      "outputs": [
        {
          "output_type": "stream",
          "name": "stdout",
          "text": [
            "✅ App is running at: NgrokTunnel: \"https://0055c9eae8a6.ngrok-free.app\" -> \"http://localhost:8501\"\n"
          ]
        }
      ]
    },
    {
      "cell_type": "code",
      "source": [],
      "metadata": {
        "id": "i_Xn3txX8ONp"
      },
      "execution_count": null,
      "outputs": []
    }
  ]
}